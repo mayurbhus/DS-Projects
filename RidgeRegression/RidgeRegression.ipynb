{
 "cells": [
  {
   "cell_type": "code",
   "execution_count": 4,
   "id": "3309a3c3-94ce-4502-8530-b7904229628f",
   "metadata": {},
   "outputs": [
    {
     "name": "stdout",
     "output_type": "stream",
     "text": [
      "All the necessary libraries imported.\n"
     ]
    }
   ],
   "source": [
    "%matplotlib inline\n",
    "import numpy as np\n",
    "import pandas as pd\n",
    "import matplotlib.pyplot as plt\n",
    "import mglearn\n",
    "from sklearn.linear_model import Ridge\n",
    "print(\"All the necessary libraries imported.\")"
   ]
  },
  {
   "cell_type": "code",
   "execution_count": 2,
   "id": "836e32ba-867c-42f3-9584-2413485a4f92",
   "metadata": {},
   "outputs": [
    {
     "name": "stdout",
     "output_type": "stream",
     "text": [
      "Data imported and splitted successfully.\n"
     ]
    }
   ],
   "source": [
    "from sklearn.model_selection import train_test_split\n",
    "X, y = mglearn.datasets.load_extended_boston()\n",
    "X_train, X_test, y_train, y_test = train_test_split(X, y, random_state = 0)\n",
    "print(\"Data imported and splitted successfully.\")"
   ]
  },
  {
   "cell_type": "code",
   "execution_count": 4,
   "id": "95449f96-6de3-40b6-91b2-2bcd8b81af75",
   "metadata": {},
   "outputs": [
    {
     "name": "stdout",
     "output_type": "stream",
     "text": [
      "Training set score : 0.89\n",
      "Test set score : 0.75\n"
     ]
    }
   ],
   "source": [
    "#Fitting the model with default alpha value.(alpha = 1)\n",
    "ridge = Ridge().fit(X_train, y_train)\n",
    "print(\"Training set score : {:.2f}\".format(ridge.score(X_train,y_train)))\n",
    "print(\"Test set score : {:.2f}\".format(ridge.score(X_test, y_test)))"
   ]
  },
  {
   "cell_type": "code",
   "execution_count": 5,
   "id": "bd4e3b94-0eee-46af-af11-4929286f6bd2",
   "metadata": {},
   "outputs": [
    {
     "name": "stdout",
     "output_type": "stream",
     "text": [
      "Training set score : 0.79\n",
      "Test set score : 0.64\n"
     ]
    }
   ],
   "source": [
    "#Increasing alpha forces coefficents to move more toward zero.\n",
    "#Which decreases training set performance but might help generalization.\n",
    "#Fitting the model with alpha = 10.\n",
    "ridge10 = Ridge(alpha = 10).fit(X_train, y_train)\n",
    "print(\"Training set score : {:.2f}\".format(ridge10.score(X_train, y_train)))\n",
    "print(\"Test set score : {:.2f}\".format(ridge10.score(X_test, y_test)))"
   ]
  },
  {
   "cell_type": "code",
   "execution_count": 6,
   "id": "69c386ba-b4ef-4936-b4ea-a0655540c5d2",
   "metadata": {},
   "outputs": [
    {
     "name": "stdout",
     "output_type": "stream",
     "text": [
      "Training set score : 0.93\n",
      "Test set score : 0.77\n"
     ]
    }
   ],
   "source": [
    "#Fitting the model with alpha = 0.1\n",
    "ridge01 = Ridge(alpha = 0.1).fit(X_train, y_train)\n",
    "print(\"Training set score : {:.2f}\".format(ridge01.score(X_train, y_train)))\n",
    "print(\"Test set score : {:.2f}\".format(ridge01.score(X_test, y_test)))"
   ]
  },
  {
   "cell_type": "code",
   "execution_count": null,
   "id": "9511fb9f-536c-4450-81ef-695220022c2c",
   "metadata": {},
   "outputs": [],
   "source": []
  }
 ],
 "metadata": {
  "kernelspec": {
   "display_name": "ml_venv",
   "language": "python",
   "name": "ml_venv"
  },
  "language_info": {
   "codemirror_mode": {
    "name": "ipython",
    "version": 3
   },
   "file_extension": ".py",
   "mimetype": "text/x-python",
   "name": "python",
   "nbconvert_exporter": "python",
   "pygments_lexer": "ipython3",
   "version": "3.11.4"
  }
 },
 "nbformat": 4,
 "nbformat_minor": 5
}
